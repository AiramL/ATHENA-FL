{
 "cells": [
  {
   "cell_type": "markdown",
   "id": "fdb5bf1f",
   "metadata": {},
   "source": [
    "# Import the packages"
   ]
  },
  {
   "cell_type": "code",
   "execution_count": 1,
   "id": "53333cd6",
   "metadata": {},
   "outputs": [
    {
     "name": "stderr",
     "output_type": "stream",
     "text": [
      "2023-07-10 13:41:54.611004: W tensorflow/compiler/tf2tensorrt/utils/py_utils.cc:38] TF-TRT Warning: Could not find TensorRT\n"
     ]
    }
   ],
   "source": [
    "import numpy as np\n",
    "import tensorflow as tf\n",
    "import matplotlib.pyplot as plt\n",
    "\n",
    "from pickle import load\n",
    "from matplotlib import pyplot\n",
    "from sklearn.model_selection import train_test_split\n",
    "\n",
    "\n",
    "from dataset_operations import *"
   ]
  },
  {
   "cell_type": "markdown",
   "id": "7ceaf9cd",
   "metadata": {},
   "source": [
    "# Load the data"
   ]
  },
  {
   "cell_type": "code",
   "execution_count": 3,
   "id": "0ac61e16",
   "metadata": {},
   "outputs": [],
   "source": [
    "X = read_dataset('../../../datasets/CICDataset/processed_data/pre_processed_dataframes/features_1')\n",
    "Y = read_dataset('../../../datasets/CICDataset/processed_data/pre_processed_dataframes/label_1_multiclass')"
   ]
  },
  {
   "cell_type": "markdown",
   "id": "67b15d50",
   "metadata": {},
   "source": [
    "# Adjust data"
   ]
  },
  {
   "cell_type": "code",
   "execution_count": 4,
   "id": "7a33e981",
   "metadata": {},
   "outputs": [],
   "source": [
    "X.drop('SimillarHTTP',axis=1,inplace=True)"
   ]
  },
  {
   "cell_type": "markdown",
   "id": "624c4e05",
   "metadata": {},
   "source": [
    "# Split dataset into train and test"
   ]
  },
  {
   "cell_type": "code",
   "execution_count": 5,
   "id": "d3f0cdc1",
   "metadata": {},
   "outputs": [],
   "source": [
    "x_train,x_test,y_train,y_test = train_test_split(X,Y,test_size=0.2)"
   ]
  },
  {
   "cell_type": "markdown",
   "id": "f147e125",
   "metadata": {},
   "source": [
    "# Verifying the number of classes"
   ]
  },
  {
   "cell_type": "code",
   "execution_count": 10,
   "id": "17718a92",
   "metadata": {},
   "outputs": [
    {
     "name": "stdout",
     "output_type": "stream",
     "text": [
      "13\n",
      "29\n"
     ]
    }
   ],
   "source": [
    "classes = len(Y.unique())"
   ]
  },
  {
   "cell_type": "markdown",
   "id": "34411070",
   "metadata": {},
   "source": [
    "# Creating model"
   ]
  },
  {
   "cell_type": "code",
   "execution_count": 13,
   "id": "d43e2547",
   "metadata": {},
   "outputs": [],
   "source": [
    "#model = tf.keras.applications.NASNetLarge((None,29),classes=classes, weights=None)\n",
    "#model.compile(optimizer=tf.keras.optimizers.Adam(learning_rate=1e-4),\n",
    "#              loss='sparse_categorical_crossentropy',metrics=['accuracy'])\n",
    "\n",
    "model = tf.keras.models.Sequential([\n",
    "            tf.keras.layers.Dense(len(x_train.columns), activation='relu', kernel_initializer='normal'),\n",
    "            tf.keras.layers.Dense(256, activation='relu', kernel_initializer='normal'),    \n",
    "            tf.keras.layers.Dense(128, activation='relu', kernel_initializer='normal'),    \n",
    "            tf.keras.layers.Dense(13, activation='softmax')])\n",
    "            \n",
    "model.compile(optimizer='adam',loss='sparse_categorical_crossentropy',metrics=['accuracy']) "
   ]
  },
  {
   "cell_type": "markdown",
   "id": "b38f65bd",
   "metadata": {},
   "source": [
    "# Fit the model with the preprocessed data"
   ]
  },
  {
   "cell_type": "code",
   "execution_count": 16,
   "id": "c22c415b",
   "metadata": {},
   "outputs": [
    {
     "name": "stdout",
     "output_type": "stream",
     "text": [
      "Epoch 1/10\n",
      "39111/39111 [==============================] - 283s 7ms/step - loss: nan - accuracy: 0.0818\n",
      "Epoch 2/10\n",
      "39111/39111 [==============================] - 281s 7ms/step - loss: nan - accuracy: 0.0818\n",
      "Epoch 3/10\n",
      "39111/39111 [==============================] - 282s 7ms/step - loss: nan - accuracy: 0.0818\n",
      "Epoch 4/10\n",
      "39111/39111 [==============================] - 288s 7ms/step - loss: nan - accuracy: 0.0818\n",
      "Epoch 5/10\n",
      "39111/39111 [==============================] - 298s 8ms/step - loss: nan - accuracy: 0.0818\n",
      "Epoch 6/10\n",
      "39111/39111 [==============================] - 288s 7ms/step - loss: nan - accuracy: 0.0818\n",
      "Epoch 7/10\n",
      "39111/39111 [==============================] - 289s 7ms/step - loss: nan - accuracy: 0.0818\n",
      "Epoch 8/10\n",
      "39111/39111 [==============================] - 295s 8ms/step - loss: nan - accuracy: 0.0818\n",
      "Epoch 9/10\n",
      "39111/39111 [==============================] - 282s 7ms/step - loss: nan - accuracy: 0.0818\n",
      "Epoch 10/10\n",
      "39111/39111 [==============================] - 282s 7ms/step - loss: nan - accuracy: 0.0818\n"
     ]
    },
    {
     "data": {
      "text/plain": [
       "<keras.src.callbacks.History at 0x7f2c38aa1c30>"
      ]
     },
     "execution_count": 16,
     "metadata": {},
     "output_type": "execute_result"
    }
   ],
   "source": [
    "bs = 1024\n",
    "\n",
    "model.fit(x_train, y_train, epochs=10,batch_size=bs,steps_per_epoch=int(len(x_train)//bs))"
   ]
  },
  {
   "cell_type": "markdown",
   "id": "956d921f",
   "metadata": {},
   "source": [
    "# Evaluate the final model"
   ]
  },
  {
   "cell_type": "code",
   "execution_count": null,
   "id": "24da8980",
   "metadata": {},
   "outputs": [],
   "source": [
    "loss, accuracy = model.evaluate(x_test,  y_test, verbose=2)"
   ]
  }
 ],
 "metadata": {
  "kernelspec": {
   "display_name": "Python 3 (ipykernel)",
   "language": "python",
   "name": "python3"
  },
  "language_info": {
   "codemirror_mode": {
    "name": "ipython",
    "version": 3
   },
   "file_extension": ".py",
   "mimetype": "text/x-python",
   "name": "python",
   "nbconvert_exporter": "python",
   "pygments_lexer": "ipython3",
   "version": "3.10.6"
  }
 },
 "nbformat": 4,
 "nbformat_minor": 5
}
