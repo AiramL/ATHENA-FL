{
 "cells": [
  {
   "cell_type": "code",
   "execution_count": 4,
   "id": "4971cfcd",
   "metadata": {},
   "outputs": [],
   "source": [
    "import numpy as np\n",
    "import tensorflow as tf\n",
    "from pickle import load\n",
    "from matplotlib import pyplot\n",
    "import matplotlib.pyplot as plt"
   ]
  },
  {
   "cell_type": "markdown",
   "id": "79ff8123",
   "metadata": {},
   "source": [
    "# Data visualization"
   ]
  },
  {
   "cell_type": "code",
   "execution_count": 10,
   "id": "f8f55f22",
   "metadata": {},
   "outputs": [
    {
     "data": {
      "text/plain": [
       "<matplotlib.image.AxesImage at 0x7fa9572c77f0>"
      ]
     },
     "execution_count": 10,
     "metadata": {},
     "output_type": "execute_result"
    },
    {
     "data": {
      "image/png": "[encoded data removed]",
      "text/plain": [
       "<Figure size 72x72 with 1 Axes>"
      ]
     },
     "metadata": {
      "needs_background": "light"
     },
     "output_type": "display_data"
    }
   ],
   "source": [
    "x_train2 = np.asarray(load(open('../../../../datasets/CIFAR-10/Non-IID-distribution/train/class6Train','rb')))\n",
    "x_trainL = np.asarray(load(open('../../../../datasets/CIFAR-10/Non-IID-distribution/train/class6TrainLabel','rb')))\n",
    "plt.rcParams[\"figure.figsize\"] = (1,1)\n",
    "plt.imshow(x_train2[1000])"
   ]
  },
  {
   "cell_type": "markdown",
   "id": "89be6199",
   "metadata": {},
   "source": [
    "# Preprocessing the data "
   ]
  },
  {
   "cell_type": "code",
   "execution_count": 14,
   "id": "b6a9a673",
   "metadata": {},
   "outputs": [
    {
     "name": "stderr",
     "output_type": "stream",
     "text": [
      "2022-07-14 12:04:30.481969: E tensorflow/stream_executor/cuda/cuda_driver.cc:271] failed call to cuInit: CUDA_ERROR_NO_DEVICE: no CUDA-capable device is detected\n",
      "2022-07-14 12:04:30.482064: I tensorflow/stream_executor/cuda/cuda_diagnostics.cc:156] kernel driver does not appear to be running on this host (slave01): /proc/driver/nvidia/version does not exist\n"
     ]
    }
   ],
   "source": [
    "from augment_data import augment_dataset\n",
    "from load_federated_data import *\n",
    "from generate_neural_network import build_model\n",
    "\n",
    "\n",
    "dataset_name = \"CIFAR-10\"\n",
    "clientID = 1\n",
    "numClients = 1\n",
    "basicNN = 0\n",
    "modelType = 0\n",
    "trPer = 0.7\n",
    "\n",
    "x_train, y_train, x_test, y_test = load_data_federated_IID(dataset_name, clientID, numClients, basicNN, modelType, trPer)\n",
    "x_train, y_train = augment_dataset(x_train,y_train)\n",
    "x_test, y_test = augment_dataset(x_test,y_test)"
   ]
  },
  {
   "cell_type": "markdown",
   "id": "3e94778b",
   "metadata": {},
   "source": [
    "# Creating model"
   ]
  },
  {
   "cell_type": "code",
   "execution_count": 15,
   "id": "f54f2c2a",
   "metadata": {},
   "outputs": [],
   "source": [
    "model = build_model(basicNN,dataset_name)"
   ]
  },
  {
   "cell_type": "markdown",
   "id": "494259b1",
   "metadata": {},
   "source": [
    "# Fit the model with the preprocessed data"
   ]
  },
  {
   "cell_type": "code",
   "execution_count": 16,
   "id": "f5b6c5aa",
   "metadata": {},
   "outputs": [
    {
     "name": "stdout",
     "output_type": "stream",
     "text": [
      "Epoch 1/10\n",
      "2999/3937 [=====================>........] - ETA: 1:43 - loss: 2.1988 - accuracy: 0.2067"
     ]
    },
    {
     "name": "stderr",
     "output_type": "stream",
     "text": [
      "IOPub message rate exceeded.\n",
      "The notebook server will temporarily stop sending output\n",
      "to the client in order to avoid crashing it.\n",
      "To change this limit, set the config variable\n",
      "`--NotebookApp.iopub_msg_rate_limit`.\n",
      "\n",
      "Current values:\n",
      "NotebookApp.iopub_msg_rate_limit=1000.0 (msgs/sec)\n",
      "NotebookApp.rate_limit_window=3.0 (secs)\n",
      "\n"
     ]
    },
    {
     "name": "stdout",
     "output_type": "stream",
     "text": [
      "3937/3937 [==============================] - 432s 110ms/step - loss: 2.1030 - accuracy: 0.2463\n",
      "Epoch 3/10\n",
      "2283/3937 [================>.............] - ETA: 3:01 - loss: 2.0109 - accuracy: 0.2845"
     ]
    },
    {
     "name": "stderr",
     "output_type": "stream",
     "text": [
      "IOPub message rate exceeded.\n",
      "The notebook server will temporarily stop sending output\n",
      "to the client in order to avoid crashing it.\n",
      "To change this limit, set the config variable\n",
      "`--NotebookApp.iopub_msg_rate_limit`.\n",
      "\n",
      "Current values:\n",
      "NotebookApp.iopub_msg_rate_limit=1000.0 (msgs/sec)\n",
      "NotebookApp.rate_limit_window=3.0 (secs)\n",
      "\n"
     ]
    },
    {
     "name": "stdout",
     "output_type": "stream",
     "text": [
      "3937/3937 [==============================] - 430s 109ms/step - loss: 1.9425 - accuracy: 0.3174\n",
      "Epoch 5/10\n",
      "1758/3937 [============>.................] - ETA: 3:57 - loss: 1.8771 - accuracy: 0.3416"
     ]
    },
    {
     "name": "stderr",
     "output_type": "stream",
     "text": [
      "IOPub message rate exceeded.\n",
      "The notebook server will temporarily stop sending output\n",
      "to the client in order to avoid crashing it.\n",
      "To change this limit, set the config variable\n",
      "`--NotebookApp.iopub_msg_rate_limit`.\n",
      "\n",
      "Current values:\n",
      "NotebookApp.iopub_msg_rate_limit=1000.0 (msgs/sec)\n",
      "NotebookApp.rate_limit_window=3.0 (secs)\n",
      "\n"
     ]
    },
    {
     "name": "stdout",
     "output_type": "stream",
     "text": [
      "3937/3937 [==============================] - 423s 108ms/step - loss: 1.7866 - accuracy: 0.3876\n",
      "Epoch 7/10\n",
      " 861/3937 [=====>........................] - ETA: 5:31 - loss: 1.7663 - accuracy: 0.3959"
     ]
    },
    {
     "name": "stderr",
     "output_type": "stream",
     "text": [
      "IOPub message rate exceeded.\n",
      "The notebook server will temporarily stop sending output\n",
      "to the client in order to avoid crashing it.\n",
      "To change this limit, set the config variable\n",
      "`--NotebookApp.iopub_msg_rate_limit`.\n",
      "\n",
      "Current values:\n",
      "NotebookApp.iopub_msg_rate_limit=1000.0 (msgs/sec)\n",
      "NotebookApp.rate_limit_window=3.0 (secs)\n",
      "\n"
     ]
    },
    {
     "name": "stdout",
     "output_type": "stream",
     "text": [
      "3937/3937 [==============================] - 424s 108ms/step - loss: 1.7134 - accuracy: 0.4233\n",
      "Epoch 9/10\n",
      " 442/3937 [==>...........................] - ETA: 6:17 - loss: 1.7056 - accuracy: 0.4243"
     ]
    },
    {
     "name": "stderr",
     "output_type": "stream",
     "text": [
      "IOPub message rate exceeded.\n",
      "The notebook server will temporarily stop sending output\n",
      "to the client in order to avoid crashing it.\n",
      "To change this limit, set the config variable\n",
      "`--NotebookApp.iopub_msg_rate_limit`.\n",
      "\n",
      "Current values:\n",
      "NotebookApp.iopub_msg_rate_limit=1000.0 (msgs/sec)\n",
      "NotebookApp.rate_limit_window=3.0 (secs)\n",
      "\n"
     ]
    },
    {
     "name": "stdout",
     "output_type": "stream",
     "text": [
      "3597/3937 [==========================>...] - ETA: 36s - loss: 1.6762 - accuracy: 0.4395"
     ]
    },
    {
     "name": "stderr",
     "output_type": "stream",
     "text": [
      "IOPub message rate exceeded.\n",
      "The notebook server will temporarily stop sending output\n",
      "to the client in order to avoid crashing it.\n",
      "To change this limit, set the config variable\n",
      "`--NotebookApp.iopub_msg_rate_limit`.\n",
      "\n",
      "Current values:\n",
      "NotebookApp.iopub_msg_rate_limit=1000.0 (msgs/sec)\n",
      "NotebookApp.rate_limit_window=3.0 (secs)\n",
      "\n"
     ]
    }
   ],
   "source": [
    "model.fit(x_train, y_train, epochs=10,batch_size=32,steps_per_epoch=int(len(x_train)/160))"
   ]
  },
  {
   "cell_type": "markdown",
   "id": "f7d08d2b",
   "metadata": {},
   "source": [
    "# Evaluate the final model"
   ]
  },
  {
   "cell_type": "code",
   "execution_count": 17,
   "id": "72c1b807",
   "metadata": {},
   "outputs": [
    {
     "name": "stdout",
     "output_type": "stream",
     "text": [
      "8438/8438 - 217s - loss: 1.6404 - accuracy: 0.4568 - 217s/epoch - 26ms/step\n"
     ]
    }
   ],
   "source": [
    "loss, accuracy = model.evaluate(x_test,  y_test, verbose=2)"
   ]
  },
  {
   "cell_type": "code",
   "execution_count": null,
   "id": "a4b9f944",
   "metadata": {},
   "outputs": [],
   "source": []
  }
 ],
 "metadata": {
  "kernelspec": {
   "display_name": "Python 3 (ipykernel)",
   "language": "python",
   "name": "python3"
  },
  "language_info": {
   "codemirror_mode": {
    "name": "ipython",
    "version": 3
   },
   "file_extension": ".py",
   "mimetype": "text/x-python",
   "name": "python",
   "nbconvert_exporter": "python",
   "pygments_lexer": "ipython3",
   "version": "3.9.1"
  }
 },
 "nbformat": 4,
 "nbformat_minor": 5
}
