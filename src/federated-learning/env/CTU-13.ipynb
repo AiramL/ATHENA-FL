{
 "cells": [
  {
   "cell_type": "markdown",
   "id": "fdb5bf1f",
   "metadata": {},
   "source": [
    "# Import the packages"
   ]
  },
  {
   "cell_type": "code",
   "execution_count": 2,
   "id": "53333cd6",
   "metadata": {},
   "outputs": [
    {
     "name": "stderr",
     "output_type": "stream",
     "text": [
      "2023-07-24 09:28:41.101774: W tensorflow/compiler/tf2tensorrt/utils/py_utils.cc:38] TF-TRT Warning: Could not find TensorRT\n"
     ]
    }
   ],
   "source": [
    "import numpy as np\n",
    "import tensorflow as tf\n",
    "import matplotlib.pyplot as plt\n",
    "\n",
    "from pickle import load\n",
    "from matplotlib import pyplot\n",
    "from sklearn.model_selection import train_test_split\n",
    "\n",
    "\n",
    "from dataset_operations import *"
   ]
  },
  {
   "cell_type": "markdown",
   "id": "7ceaf9cd",
   "metadata": {},
   "source": [
    "# Load the data"
   ]
  },
  {
   "cell_type": "code",
   "execution_count": 3,
   "id": "0ac61e16",
   "metadata": {},
   "outputs": [],
   "source": [
    "X = read_dataset('../../../datasets/CICDataset/processed_data/pre_processed_dataframes/features_1')\n",
    "Y = read_dataset('../../../datasets/CICDataset/processed_data/pre_processed_dataframes/label_1_multiclass')"
   ]
  },
  {
   "cell_type": "markdown",
   "id": "624c4e05",
   "metadata": {},
   "source": [
    "# Split dataset into train and test"
   ]
  },
  {
   "cell_type": "code",
   "execution_count": 4,
   "id": "d3f0cdc1",
   "metadata": {},
   "outputs": [],
   "source": [
    "x_train,x_test,y_train,y_test = train_test_split(X,Y,test_size=0.2)"
   ]
  },
  {
   "cell_type": "markdown",
   "id": "f147e125",
   "metadata": {},
   "source": [
    "# Verifying the number of classes"
   ]
  },
  {
   "cell_type": "code",
   "execution_count": 11,
   "id": "17718a92",
   "metadata": {},
   "outputs": [],
   "source": [
    "classes = len(Y.unique())"
   ]
  },
  {
   "cell_type": "markdown",
   "id": "34411070",
   "metadata": {},
   "source": [
    "# Creating model"
   ]
  },
  {
   "cell_type": "code",
   "execution_count": 7,
   "id": "d43e2547",
   "metadata": {},
   "outputs": [],
   "source": [
    "#model = tf.keras.applications.NASNetLarge((None,29),classes=classes, weights=None)\n",
    "#model.compile(optimizer=tf.keras.optimizers.Adam(learning_rate=1e-4),\n",
    "#              loss='sparse_categorical_crossentropy',metrics=['accuracy'])\n",
    "\n",
    "model = tf.keras.models.Sequential([\n",
    "            tf.keras.layers.Dense(len(x_train.columns), activation='relu', kernel_initializer='normal'),\n",
    "            tf.keras.layers.BatchNormalization(),\n",
    "            tf.keras.layers.Dense(256, activation='relu', kernel_initializer='normal'),    \n",
    "            tf.keras.layers.BatchNormalization(),\n",
    "            tf.keras.layers.Dense(128, activation='relu', kernel_initializer='normal'),    \n",
    "            tf.keras.layers.Dense(13, activation='softmax')])\n",
    "            \n",
    "model.compile(optimizer='adam',loss='sparse_categorical_crossentropy', metrics=['accuracy']) "
   ]
  },
  {
   "cell_type": "code",
   "execution_count": 17,
   "id": "79164902",
   "metadata": {},
   "outputs": [],
   "source": [
    "# Model from https://ieeexplore.ieee.org/stamp/stamp.jsp?arnumber=8681044\n",
    "\n",
    "model_2 = tf.keras.models.Sequential([\n",
    "            tf.keras.layers.Dense(len(x_train.columns), activation='relu', kernel_initializer='normal'),\n",
    "            tf.keras.layers.Dense(1024, activation='relu', kernel_initializer='normal'),\n",
    "            #tf.keras.layers.BatchNormalization(synchronized=True),\n",
    "            tf.keras.layers.Dropout(0.01),\n",
    "            tf.keras.layers.Dense(768, activation='relu', kernel_initializer='normal'),\n",
    "            #tf.keras.layers.BatchNormalization(synchronized=True),\n",
    "            tf.keras.layers.Dropout(0.01),\n",
    "            tf.keras.layers.Dense(512, activation='relu', kernel_initializer='normal'),\n",
    "            #tf.keras.layers.BatchNormalization(synchronized=True),\n",
    "            tf.keras.layers.Dropout(0.01),\n",
    "            tf.keras.layers.Dense(256, activation='relu', kernel_initializer='normal'),\n",
    "            #tf.keras.layers.BatchNormalization(synchronized=True),\n",
    "            tf.keras.layers.Dropout(0.01),\n",
    "            tf.keras.layers.Dense(128, activation='relu', kernel_initializer='normal'),\n",
    "            #tf.keras.layers.BatchNormalization(synchronized=True),\n",
    "            tf.keras.layers.Dropout(0.01),\n",
    "            tf.keras.layers.Dense(classes, activation='softmax')])\n",
    "            \n",
    "model_2.compile(optimizer='adam',loss='sparse_categorical_crossentropy', metrics=['accuracy']) "
   ]
  },
  {
   "cell_type": "markdown",
   "id": "b38f65bd",
   "metadata": {},
   "source": [
    "# Fit the model with the preprocessed data"
   ]
  },
  {
   "cell_type": "code",
   "execution_count": 18,
   "id": "c22c415b",
   "metadata": {},
   "outputs": [
    {
     "ename": "ValueError",
     "evalue": "Failed to convert a NumPy array to a Tensor (Unsupported object type float).",
     "output_type": "error",
     "traceback": [
      "\u001b[0;31m---------------------------------------------------------------------------\u001b[0m",
      "\u001b[0;31mValueError\u001b[0m                                Traceback (most recent call last)",
      "Cell \u001b[0;32mIn [18], line 5\u001b[0m\n\u001b[1;32m      1\u001b[0m bs \u001b[38;5;241m=\u001b[39m \u001b[38;5;241m128\u001b[39m\n\u001b[1;32m      3\u001b[0m \u001b[38;5;66;03m#print(x_train[1])\u001b[39;00m\n\u001b[0;32m----> 5\u001b[0m \u001b[43mmodel_2\u001b[49m\u001b[38;5;241;43m.\u001b[39;49m\u001b[43mfit\u001b[49m\u001b[43m(\u001b[49m\u001b[43mx_train\u001b[49m\u001b[43m,\u001b[49m\u001b[43m \u001b[49m\u001b[43my_train\u001b[49m\u001b[43m,\u001b[49m\u001b[43m \u001b[49m\u001b[43mepochs\u001b[49m\u001b[38;5;241;43m=\u001b[39;49m\u001b[38;5;241;43m10\u001b[39;49m\u001b[43m,\u001b[49m\u001b[43mbatch_size\u001b[49m\u001b[38;5;241;43m=\u001b[39;49m\u001b[43mbs\u001b[49m\u001b[43m,\u001b[49m\u001b[43msteps_per_epoch\u001b[49m\u001b[38;5;241;43m=\u001b[39;49m\u001b[38;5;28;43mint\u001b[39;49m\u001b[43m(\u001b[49m\u001b[38;5;28;43mlen\u001b[39;49m\u001b[43m(\u001b[49m\u001b[43mx_train\u001b[49m\u001b[43m)\u001b[49m\u001b[38;5;241;43m/\u001b[39;49m\u001b[38;5;241;43m/\u001b[39;49m\u001b[43mbs\u001b[49m\u001b[43m)\u001b[49m\u001b[43m)\u001b[49m\n",
      "File \u001b[0;32m/usr/local/lib/python3.10/dist-packages/keras/src/utils/traceback_utils.py:70\u001b[0m, in \u001b[0;36mfilter_traceback.<locals>.error_handler\u001b[0;34m(*args, **kwargs)\u001b[0m\n\u001b[1;32m     67\u001b[0m     filtered_tb \u001b[38;5;241m=\u001b[39m _process_traceback_frames(e\u001b[38;5;241m.\u001b[39m__traceback__)\n\u001b[1;32m     68\u001b[0m     \u001b[38;5;66;03m# To get the full stack trace, call:\u001b[39;00m\n\u001b[1;32m     69\u001b[0m     \u001b[38;5;66;03m# `tf.debugging.disable_traceback_filtering()`\u001b[39;00m\n\u001b[0;32m---> 70\u001b[0m     \u001b[38;5;28;01mraise\u001b[39;00m e\u001b[38;5;241m.\u001b[39mwith_traceback(filtered_tb) \u001b[38;5;28;01mfrom\u001b[39;00m \u001b[38;5;28mNone\u001b[39m\n\u001b[1;32m     71\u001b[0m \u001b[38;5;28;01mfinally\u001b[39;00m:\n\u001b[1;32m     72\u001b[0m     \u001b[38;5;28;01mdel\u001b[39;00m filtered_tb\n",
      "File \u001b[0;32m/usr/local/lib/python3.10/dist-packages/tensorflow/python/framework/constant_op.py:98\u001b[0m, in \u001b[0;36mconvert_to_eager_tensor\u001b[0;34m(value, ctx, dtype)\u001b[0m\n\u001b[1;32m     96\u001b[0m     dtype \u001b[38;5;241m=\u001b[39m dtypes\u001b[38;5;241m.\u001b[39mas_dtype(dtype)\u001b[38;5;241m.\u001b[39mas_datatype_enum\n\u001b[1;32m     97\u001b[0m ctx\u001b[38;5;241m.\u001b[39mensure_initialized()\n\u001b[0;32m---> 98\u001b[0m \u001b[38;5;28;01mreturn\u001b[39;00m \u001b[43mops\u001b[49m\u001b[38;5;241;43m.\u001b[39;49m\u001b[43mEagerTensor\u001b[49m\u001b[43m(\u001b[49m\u001b[43mvalue\u001b[49m\u001b[43m,\u001b[49m\u001b[43m \u001b[49m\u001b[43mctx\u001b[49m\u001b[38;5;241;43m.\u001b[39;49m\u001b[43mdevice_name\u001b[49m\u001b[43m,\u001b[49m\u001b[43m \u001b[49m\u001b[43mdtype\u001b[49m\u001b[43m)\u001b[49m\n",
      "\u001b[0;31mValueError\u001b[0m: Failed to convert a NumPy array to a Tensor (Unsupported object type float)."
     ]
    }
   ],
   "source": [
    "bs = 128\n",
    "\n",
    "#print(x_train[1])\n",
    "\n",
    "model_2.fit(x_train, y_train, epochs=10,batch_size=bs,steps_per_epoch=int(len(x_train)//bs))"
   ]
  },
  {
   "cell_type": "markdown",
   "id": "956d921f",
   "metadata": {},
   "source": [
    "# Evaluate the final model"
   ]
  },
  {
   "cell_type": "code",
   "execution_count": null,
   "id": "24da8980",
   "metadata": {},
   "outputs": [],
   "source": [
    "loss, accuracy = model.evaluate(x_test,  y_test, verbose=2)"
   ]
  }
 ],
 "metadata": {
  "kernelspec": {
   "display_name": "Python 3 (ipykernel)",
   "language": "python",
   "name": "python3"
  },
  "language_info": {
   "codemirror_mode": {
    "name": "ipython",
    "version": 3
   },
   "file_extension": ".py",
   "mimetype": "text/x-python",
   "name": "python",
   "nbconvert_exporter": "python",
   "pygments_lexer": "ipython3",
   "version": "3.10.6"
  }
 },
 "nbformat": 4,
 "nbformat_minor": 5
}
